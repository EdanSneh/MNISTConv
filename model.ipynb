{
 "cells": [
  {
   "cell_type": "code",
   "execution_count": 123,
   "metadata": {},
   "outputs": [],
   "source": [
    "import numpy as np\n",
    "import tensorflow as tf\n",
    "from tensorflow import keras\n",
    "from tensorflow.keras import layers\n",
    "from tensorflow.keras import optimizers\n",
    "from tensorflow.keras import datasets\n",
    "from tensorflow.keras import activations\n",
    "from tensorflow.keras.utils import to_categorical\n",
    "import matplotlib.pyplot as plt\n",
    "import seaborn as sns\n",
    "import pandas as pd"
   ]
  },
  {
   "cell_type": "code",
   "execution_count": 101,
   "metadata": {},
   "outputs": [],
   "source": [
    "# load dataset\n",
    "(tmp_train_x, tmp_train_y), (tmp_test_x, tmp_test_y) = datasets.mnist.load_data()"
   ]
  },
  {
   "cell_type": "code",
   "execution_count": 102,
   "metadata": {},
   "outputs": [],
   "source": [
    "# preprocessing\n",
    "train_shape = tmp_train_x.shape\n",
    "test_shape = tmp_test_x.shape\n",
    "# normalize and add 1 channel for 4th dimension\n",
    "train_x = tmp_train_x.reshape(train_shape[0], train_shape[1], train_shape[2], 1) / 255\n",
    "test_x = tmp_test_x.reshape(test_shape[0], test_shape[1], test_shape[2], 1) / 255\n",
    "train_y = to_categorical(tmp_train_y)\n",
    "test_y = to_categorical(tmp_test_y)"
   ]
  },
  {
   "cell_type": "code",
   "execution_count": 68,
   "metadata": {},
   "outputs": [
    {
     "name": "stdout",
     "output_type": "stream",
     "text": [
      "Model: \"sequential_48\"\n",
      "_________________________________________________________________\n",
      "Layer (type)                 Output Shape              Param #   \n",
      "=================================================================\n",
      "conv2d_23 (Conv2D)           (None, 24, 24, 10)        260       \n",
      "_________________________________________________________________\n",
      "max_pooling2d_16 (MaxPooling (None, 12, 12, 10)        0         \n",
      "_________________________________________________________________\n",
      "flatten_9 (Flatten)          (None, 1440)              0         \n",
      "_________________________________________________________________\n",
      "dense_58 (Dense)             (None, 25)                36025     \n",
      "_________________________________________________________________\n",
      "dense_59 (Dense)             (None, 10)                260       \n",
      "=================================================================\n",
      "Total params: 36,545\n",
      "Trainable params: 36,545\n",
      "Non-trainable params: 0\n",
      "_________________________________________________________________\n"
     ]
    }
   ],
   "source": [
    "# model initalization\n",
    "def init():\n",
    "    model = keras.Sequential()\n",
    "    model.add(layers.Conv2D(\n",
    "        10,\n",
    "        (5, 5),\n",
    "        input_shape =(28,28,1),\n",
    "        strides=1,\n",
    "        kernel_initializer=\"he_uniform\",\n",
    "        activation='relu'\n",
    "    )) # 24 x 24 output\n",
    "    model.add(layers.MaxPooling2D(\n",
    "        pool_size=(2,2)\n",
    "    )) # 12 x 12 output\n",
    "    model.add(layers.Flatten())\n",
    "    model.add(layers.Dense(25, activation = 'relu', kernel_initializer='he_uniform'))\n",
    "    model.add(layers.Dense(10, activation = 'softmax'))\n",
    "    opt = optimizers.SGD(lr=.01, momentum=.9) \n",
    "    model.compile(optimizer=opt, loss=\"categorical_crossentropy\", metrics=['accuracy'])\n",
    "    return model\n",
    "init().summary()"
   ]
  },
  {
   "cell_type": "code",
   "execution_count": 95,
   "metadata": {},
   "outputs": [
    {
     "data": {
      "text/plain": [
       "<matplotlib.image.AxesImage at 0x145168790>"
      ]
     },
     "execution_count": 95,
     "metadata": {},
     "output_type": "execute_result"
    },
    {
     "data": {
      "image/png": "[encoded data removed]",
      "text/plain": [
       "<Figure size 432x288 with 1 Axes>"
      ]
     },
     "metadata": {
      "needs_background": "light"
     },
     "output_type": "display_data"
    }
   ],
   "source": [
    "plt.imshow(train_x[0])"
   ]
  },
  {
   "cell_type": "code",
   "execution_count": 155,
   "metadata": {},
   "outputs": [
    {
     "name": "stdout",
     "output_type": "stream",
     "text": [
      "(60000, 28, 28, 1)\n",
      "Epoch 1/10\n",
      "60/60 - 8s - loss: 0.9614 - accuracy: 0.7060 - val_loss: 0.3617 - val_accuracy: 0.8920\n",
      "Epoch 2/10\n",
      "60/60 - 7s - loss: 0.3313 - accuracy: 0.9014 - val_loss: 0.2725 - val_accuracy: 0.9192\n",
      "Epoch 3/10\n",
      "60/60 - 7s - loss: 0.2683 - accuracy: 0.9211 - val_loss: 0.2357 - val_accuracy: 0.9299\n",
      "Epoch 4/10\n",
      "60/60 - 7s - loss: 0.2311 - accuracy: 0.9320 - val_loss: 0.2067 - val_accuracy: 0.9401\n",
      "Epoch 5/10\n",
      "60/60 - 7s - loss: 0.2042 - accuracy: 0.9407 - val_loss: 0.1852 - val_accuracy: 0.9450\n",
      "Epoch 6/10\n",
      "60/60 - 7s - loss: 0.1802 - accuracy: 0.9479 - val_loss: 0.1641 - val_accuracy: 0.9511\n",
      "Epoch 7/10\n",
      "60/60 - 7s - loss: 0.1619 - accuracy: 0.9529 - val_loss: 0.1483 - val_accuracy: 0.9551\n",
      "Epoch 8/10\n",
      "60/60 - 7s - loss: 0.1468 - accuracy: 0.9574 - val_loss: 0.1347 - val_accuracy: 0.9609\n",
      "Epoch 9/10\n",
      "60/60 - 7s - loss: 0.1342 - accuracy: 0.9608 - val_loss: 0.1232 - val_accuracy: 0.9633\n",
      "Epoch 10/10\n",
      "60/60 - 7s - loss: 0.1236 - accuracy: 0.9645 - val_loss: 0.1167 - val_accuracy: 0.9649\n"
     ]
    }
   ],
   "source": [
    "model = init()\n",
    "print(train_x.shape)\n",
    "history = model.fit(train_x, train_y, batch_size=1000, epochs=10, validation_data=(test_x, test_y), verbose=2) \n"
   ]
  },
  {
   "cell_type": "code",
   "execution_count": 118,
   "metadata": {},
   "outputs": [
    {
     "data": {
      "text/plain": [
       "[0.8913999795913696,\n",
       " 0.9203000068664551,\n",
       " 0.9315999746322632,\n",
       " 0.9417999982833862,\n",
       " 0.9505000114440918]"
      ]
     },
     "execution_count": 118,
     "metadata": {},
     "output_type": "execute_result"
    }
   ],
   "source": [
    "d = dir\n",
    "d(history)\n",
    "plt.history.history['loss']\n",
    "history.history['accuracy']\n",
    "history.history['val_loss']\n",
    "history.history['val_accuracy']"
   ]
  },
  {
   "cell_type": "code",
   "execution_count": 194,
   "metadata": {},
   "outputs": [
    {
     "data": {
      "image/png": "[encoded data removed]",
      "text/plain": [
       "<Figure size 1080x360 with 2 Axes>"
      ]
     },
     "metadata": {},
     "output_type": "display_data"
    }
   ],
   "source": [
    "sns.set_theme()\n",
    "hist = history.history\n",
    "fig, axis = plt.subplots(1, 2)\n",
    "x = [i for i in range(len(hist['loss']))]\n",
    "df = pd.DataFrame({\"x\":x,\n",
    "                   \"train_loss\":hist['loss'],\n",
    "                   \"test_loss\":hist[\"val_loss\"],\n",
    "                   \"train_accuracy\":hist[\"accuracy\"],\n",
    "                   \"test_accuracy\":hist[\"val_accuracy\"]})\n",
    "p1 = sns.lineplot(ax=axis[0], data=df, x=\"x\", y=\"train_loss\", label=\"train\")\n",
    "sns.lineplot(ax = axis[0], data=df, x=\"x\", y=\"test_loss\", label=\"test\")\n",
    "p1.set(\n",
    "    xticks=x,\n",
    "    title=\"Loss\",\n",
    "    xlabel=\"epochs\",\n",
    ")\n",
    "\n",
    "p2 = sns.lineplot(ax=axis[1], data=df, x=\"x\", y=\"train_accuracy\", label=\"train\")\n",
    "sns.lineplot(ax = axis[1], data=df, x=\"x\", y=\"test_accuracy\", label=\"test\")\n",
    "p2.set(\n",
    "    xticks=x,\n",
    "    title=\"Accuracy\",\n",
    "    xlabel=\"epochs\",\n",
    ")\n",
    "fig.set_figheight(5)\n",
    "fig.set_figwidth(15)\n",
    "p1.legend(loc=\"upper right\")\n",
    "pass"
   ]
  },
  {
   "cell_type": "code",
   "execution_count": 197,
   "metadata": {},
   "outputs": [
    {
     "data": {
      "text/plain": [
       "<tf.Tensor: shape=(1, 10), dtype=float32, numpy=\n",
       "array([[2.1590874e-06, 1.1696140e-07, 7.8624857e-05, 2.7923807e-04,\n",
       "        5.0126469e-06, 1.1272241e-05, 1.2514567e-09, 9.9950719e-01,\n",
       "        1.3951927e-06, 1.1493049e-04]], dtype=float32)>"
      ]
     },
     "execution_count": 197,
     "metadata": {},
     "output_type": "execute_result"
    }
   ],
   "source": [
    "np.amax(model(test_x[0:1])"
   ]
  }
 ],
 "metadata": {
  "kernelspec": {
   "display_name": "Python 3",
   "language": "python",
   "name": "python3"
  },
  "language_info": {
   "codemirror_mode": {
    "name": "ipython",
    "version": 3
   },
   "file_extension": ".py",
   "mimetype": "text/x-python",
   "name": "python",
   "nbconvert_exporter": "python",
   "pygments_lexer": "ipython3",
   "version": "3.8.5"
  }
 },
 "nbformat": 4,
 "nbformat_minor": 4
}
