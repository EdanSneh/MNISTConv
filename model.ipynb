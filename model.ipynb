{
 "cells": [
  {
   "cell_type": "code",
   "execution_count": 123,
   "metadata": {},
   "outputs": [],
   "source": [
    "import numpy as np\n",
    "import tensorflow as tf\n",
    "from tensorflow import keras\n",
    "from tensorflow.keras import layers\n",
    "from tensorflow.keras import optimizers\n",
    "from tensorflow.keras import datasets\n",
    "from tensorflow.keras import activations\n",
    "from tensorflow.keras.utils import to_categorical\n",
    "import matplotlib.pyplot as plt\n",
    "import seaborn as sns\n",
    "import pandas as pd"
   ]
  },
  {
   "cell_type": "code",
   "execution_count": 101,
   "metadata": {},
   "outputs": [],
   "source": [
    "# load dataset\n",
    "(tmp_train_x, tmp_train_y), (tmp_test_x, tmp_test_y) = datasets.mnist.load_data()"
   ]
  },
  {
   "cell_type": "code",
   "execution_count": 102,
   "metadata": {},
   "outputs": [],
   "source": [
    "# preprocessing\n",
    "train_shape = tmp_train_x.shape\n",
    "test_shape = tmp_test_x.shape\n",
    "# normalize and add 1 channel for 4th dimension\n",
    "train_x = tmp_train_x.reshape(train_shape[0], train_shape[1], train_shape[2], 1) / 255\n",
    "test_x = tmp_test_x.reshape(test_shape[0], test_shape[1], test_shape[2], 1) / 255\n",
    "train_y = to_categorical(tmp_train_y)\n",
    "test_y = to_categorical(tmp_test_y)"
   ]
  },
  {
   "cell_type": "code",
   "execution_count": 225,
   "metadata": {},
   "outputs": [],
   "source": [
    "# model initalization\n",
    "def max_init():\n",
    "    model = keras.Sequential()\n",
    "    model.add(layers.Conv2D(\n",
    "        10,\n",
    "        (5, 5),\n",
    "        input_shape =(28,28,1),\n",
    "        strides=1,\n",
    "        kernel_initializer=\"he_uniform\",\n",
    "        activation='relu'\n",
    "    )) # 24 x 24 output\n",
    "    model.add(layers.MaxPooling2D(\n",
    "        pool_size=(2,2)\n",
    "    )) # 12 x 12 output\n",
    "    model.add(layers.Flatten())\n",
    "    model.add(layers.Dense(25, activation = 'relu', kernel_initializer='he_uniform'))\n",
    "    model.add(layers.Dense(10, activation = 'softmax'))\n",
    "    opt = optimizers.SGD(lr=.01, momentum=.9) \n",
    "    model.compile(optimizer=opt, loss=\"categorical_crossentropy\", metrics=['accuracy'])\n",
    "    return model\n",
    "\n",
    "def max_wide_init():\n",
    "    model = keras.Sequential()\n",
    "    model.add(layers.Conv2D(\n",
    "        10,\n",
    "        (5, 5),\n",
    "        input_shape =(28,28,1),\n",
    "        strides=1,\n",
    "        kernel_initializer=\"he_uniform\",\n",
    "        activation='relu'\n",
    "    )) # 24 x 24 output\n",
    "    model.add(layers.MaxPooling2D(\n",
    "        pool_size=(2,2)\n",
    "    )) # 12 x 12 output\n",
    "    model.add(layers.Flatten())\n",
    "    model.add(layers.Dense(100, activation = 'relu', kernel_initializer='he_uniform'))\n",
    "    model.add(layers.Dense(10, activation = 'softmax'))\n",
    "    opt = optimizers.SGD(lr=.01, momentum=.9) \n",
    "    model.compile(optimizer=opt, loss=\"categorical_crossentropy\", metrics=['accuracy'])\n",
    "    return model\n",
    "\n",
    "def max_deep_wide_init():\n",
    "    model = keras.Sequential()\n",
    "    model.add(layers.Conv2D(\n",
    "        10,\n",
    "        (5, 5),\n",
    "        input_shape =(28,28,1),\n",
    "        strides=1,\n",
    "        kernel_initializer=\"he_uniform\",\n",
    "        activation='relu'\n",
    "    )) # 24 x 24 output\n",
    "    model.add(layers.MaxPooling2D(\n",
    "        pool_size=(2,2)\n",
    "    )) # 12 x 12 output\n",
    "    model.add(layers.Conv2D(\n",
    "        5,\n",
    "        (5, 5),\n",
    "        strides=1,\n",
    "        kernel_initializer=\"he_uniform\",\n",
    "        activation='relu'\n",
    "    )) # 8 x 8 output\n",
    "    model.add(layers.MaxPooling2D(\n",
    "    pool_size=(2,2)\n",
    "    )) # 4 x 4 output\n",
    "    model.add(layers.Flatten())\n",
    "    model.add(layers.Dense(100, activation = 'relu', kernel_initializer='he_uniform'))\n",
    "    model.add(layers.Dense(10, activation = 'softmax'))\n",
    "    opt = optimizers.SGD(lr=.01, momentum=.9) \n",
    "    model.compile(optimizer=opt, loss=\"categorical_crossentropy\", metrics=['accuracy'])\n",
    "    return model\n",
    "\n",
    "def avg_init():\n",
    "    model = keras.Sequential()\n",
    "    model.add(layers.Conv2D(\n",
    "        10,\n",
    "        (5, 5),\n",
    "        input_shape =(28,28,1),\n",
    "        strides=1,\n",
    "        kernel_initializer=\"he_uniform\",\n",
    "        activation='relu'\n",
    "    )) # 24 x 24 output\n",
    "    model.add(layers.AveragePooling2D(\n",
    "        pool_size=(2,2)\n",
    "    )) # 12 x 12 output\n",
    "    model.add(layers.Flatten())\n",
    "    model.add(layers.Dense(25, activation = 'relu', kernel_initializer='he_uniform'))\n",
    "    model.add(layers.Dense(10, activation = 'softmax'))\n",
    "    opt = optimizers.SGD(lr=.01, momentum=.9) \n",
    "    model.compile(optimizer=opt, loss=\"categorical_crossentropy\", metrics=['accuracy'])\n",
    "    return model"
   ]
  },
  {
   "cell_type": "code",
   "execution_count": 95,
   "metadata": {},
   "outputs": [
    {
     "data": {
      "text/plain": [
       "<matplotlib.image.AxesImage at 0x145168790>"
      ]
     },
     "execution_count": 95,
     "metadata": {},
     "output_type": "execute_result"
    },
    {
     "data": {
      "image/png": "[encoded data removed]",
      "text/plain": [
       "<Figure size 432x288 with 1 Axes>"
      ]
     },
     "metadata": {
      "needs_background": "light"
     },
     "output_type": "display_data"
    }
   ],
   "source": [
    "plt.imshow(train_x[0])"
   ]
  },
  {
   "cell_type": "code",
   "execution_count": 214,
   "metadata": {},
   "outputs": [
    {
     "name": "stdout",
     "output_type": "stream",
     "text": [
      "(60000, 28, 28, 1)\n",
      "Epoch 1/10\n",
      "60/60 - 8s - loss: 0.9480 - accuracy: 0.6999 - val_loss: 0.3800 - val_accuracy: 0.8885\n",
      "Epoch 2/10\n",
      "60/60 - 7s - loss: 0.3473 - accuracy: 0.8996 - val_loss: 0.2982 - val_accuracy: 0.9124\n",
      "Epoch 3/10\n",
      "60/60 - 8s - loss: 0.2883 - accuracy: 0.9161 - val_loss: 0.2550 - val_accuracy: 0.9258\n",
      "Epoch 4/10\n",
      "60/60 - 7s - loss: 0.2498 - accuracy: 0.9277 - val_loss: 0.2190 - val_accuracy: 0.9361\n",
      "Epoch 5/10\n",
      "60/60 - 7s - loss: 0.2183 - accuracy: 0.9372 - val_loss: 0.2000 - val_accuracy: 0.9437\n",
      "Epoch 6/10\n",
      "60/60 - 7s - loss: 0.1967 - accuracy: 0.9428 - val_loss: 0.1681 - val_accuracy: 0.9523\n",
      "Epoch 7/10\n",
      "60/60 - 7s - loss: 0.1724 - accuracy: 0.9503 - val_loss: 0.1564 - val_accuracy: 0.9554\n",
      "Epoch 8/10\n",
      "60/60 - 8s - loss: 0.1562 - accuracy: 0.9548 - val_loss: 0.1385 - val_accuracy: 0.9596\n",
      "Epoch 9/10\n",
      "60/60 - 7s - loss: 0.1431 - accuracy: 0.9591 - val_loss: 0.1258 - val_accuracy: 0.9630\n",
      "Epoch 10/10\n",
      "60/60 - 7s - loss: 0.1294 - accuracy: 0.9628 - val_loss: 0.1159 - val_accuracy: 0.9654\n"
     ]
    }
   ],
   "source": [
    "max_model = max_init()\n",
    "print(train_x.shape)\n",
    "history = max_model.fit(train_x, train_y, batch_size=1000, epochs=20, validation_data=(test_x, test_y), verbose=2) \n"
   ]
  },
  {
   "cell_type": "code",
   "execution_count": 211,
   "metadata": {},
   "outputs": [
    {
     "name": "stdout",
     "output_type": "stream",
     "text": [
      "(60000, 28, 28, 1)\n",
      "Epoch 1/10\n",
      "60/60 - 9s - loss: 1.2156 - accuracy: 0.6331 - val_loss: 0.4255 - val_accuracy: 0.8747\n",
      "Epoch 2/10\n",
      "60/60 - 7s - loss: 0.3835 - accuracy: 0.8886 - val_loss: 0.3352 - val_accuracy: 0.9031\n",
      "Epoch 3/10\n",
      "60/60 - 7s - loss: 0.3263 - accuracy: 0.9063 - val_loss: 0.3065 - val_accuracy: 0.9132\n",
      "Epoch 4/10\n",
      "60/60 - 7s - loss: 0.2988 - accuracy: 0.9138 - val_loss: 0.2773 - val_accuracy: 0.9217\n",
      "Epoch 5/10\n",
      "60/60 - 7s - loss: 0.2792 - accuracy: 0.9197 - val_loss: 0.2645 - val_accuracy: 0.9245\n",
      "Epoch 6/10\n",
      "60/60 - 7s - loss: 0.2635 - accuracy: 0.9236 - val_loss: 0.2471 - val_accuracy: 0.9314\n",
      "Epoch 7/10\n",
      "60/60 - 7s - loss: 0.2477 - accuracy: 0.9283 - val_loss: 0.2401 - val_accuracy: 0.9307\n",
      "Epoch 8/10\n",
      "60/60 - 6s - loss: 0.2365 - accuracy: 0.9317 - val_loss: 0.2245 - val_accuracy: 0.9355\n",
      "Epoch 9/10\n",
      "60/60 - 7s - loss: 0.2227 - accuracy: 0.9368 - val_loss: 0.2132 - val_accuracy: 0.9416\n",
      "Epoch 10/10\n",
      "60/60 - 7s - loss: 0.2125 - accuracy: 0.9390 - val_loss: 0.2066 - val_accuracy: 0.9405\n"
     ]
    }
   ],
   "source": [
    "avg_model = avg_init()\n",
    "print(train_x.shape)\n",
    "history = avg_model.fit(train_x, train_y, batch_size=1000, epochs=20, validation_data=(test_x, test_y), verbose=2) \n"
   ]
  },
  {
   "cell_type": "code",
   "execution_count": 217,
   "metadata": {},
   "outputs": [
    {
     "name": "stdout",
     "output_type": "stream",
     "text": [
      "Epoch 1/20\n",
      "60/60 - 8s - loss: 0.7506 - accuracy: 0.7670 - val_loss: 0.3121 - val_accuracy: 0.9082\n",
      "Epoch 2/20\n",
      "60/60 - 8s - loss: 0.2847 - accuracy: 0.9171 - val_loss: 0.2335 - val_accuracy: 0.9325\n",
      "Epoch 3/20\n",
      "60/60 - 8s - loss: 0.2303 - accuracy: 0.9339 - val_loss: 0.2033 - val_accuracy: 0.9406\n",
      "Epoch 4/20\n",
      "60/60 - 8s - loss: 0.1945 - accuracy: 0.9432 - val_loss: 0.1723 - val_accuracy: 0.9502\n",
      "Epoch 5/20\n",
      "60/60 - 7s - loss: 0.1693 - accuracy: 0.9511 - val_loss: 0.1543 - val_accuracy: 0.9544\n",
      "Epoch 6/20\n",
      "60/60 - 8s - loss: 0.1482 - accuracy: 0.9570 - val_loss: 0.1328 - val_accuracy: 0.9622\n",
      "Epoch 7/20\n",
      "60/60 - 8s - loss: 0.1323 - accuracy: 0.9620 - val_loss: 0.1235 - val_accuracy: 0.9625\n",
      "Epoch 8/20\n",
      "60/60 - 7s - loss: 0.1196 - accuracy: 0.9654 - val_loss: 0.1102 - val_accuracy: 0.9675\n",
      "Epoch 9/20\n",
      "60/60 - 7s - loss: 0.1103 - accuracy: 0.9685 - val_loss: 0.1032 - val_accuracy: 0.9683\n",
      "Epoch 10/20\n",
      "60/60 - 7s - loss: 0.1008 - accuracy: 0.9714 - val_loss: 0.0946 - val_accuracy: 0.9712\n",
      "Epoch 11/20\n",
      "60/60 - 8s - loss: 0.0941 - accuracy: 0.9734 - val_loss: 0.0902 - val_accuracy: 0.9711\n",
      "Epoch 12/20\n",
      "60/60 - 8s - loss: 0.0875 - accuracy: 0.9754 - val_loss: 0.0848 - val_accuracy: 0.9735\n",
      "Epoch 13/20\n",
      "60/60 - 12s - loss: 0.0824 - accuracy: 0.9768 - val_loss: 0.0816 - val_accuracy: 0.9745\n",
      "Epoch 14/20\n",
      "60/60 - 9s - loss: 0.0783 - accuracy: 0.9776 - val_loss: 0.0796 - val_accuracy: 0.9743\n",
      "Epoch 15/20\n",
      "60/60 - 8s - loss: 0.0729 - accuracy: 0.9800 - val_loss: 0.0726 - val_accuracy: 0.9765\n",
      "Epoch 16/20\n",
      "60/60 - 8s - loss: 0.0691 - accuracy: 0.9811 - val_loss: 0.0708 - val_accuracy: 0.9769\n",
      "Epoch 17/20\n",
      "60/60 - 7s - loss: 0.0659 - accuracy: 0.9817 - val_loss: 0.0702 - val_accuracy: 0.9771\n",
      "Epoch 18/20\n",
      "60/60 - 7s - loss: 0.0632 - accuracy: 0.9824 - val_loss: 0.0654 - val_accuracy: 0.9774\n",
      "Epoch 19/20\n",
      "60/60 - 7s - loss: 0.0614 - accuracy: 0.9826 - val_loss: 0.0617 - val_accuracy: 0.9797\n",
      "Epoch 20/20\n",
      "60/60 - 7s - loss: 0.0579 - accuracy: 0.9844 - val_loss: 0.0634 - val_accuracy: 0.9792\n"
     ]
    }
   ],
   "source": [
    "max_wide_model = max_wide_init()\n",
    "history = max_wide_model.fit(train_x, train_y, batch_size=1000, epochs=20, validation_data=(test_x, test_y), verbose=2) \n"
   ]
  },
  {
   "cell_type": "code",
   "execution_count": 219,
   "metadata": {},
   "outputs": [
    {
     "name": "stdout",
     "output_type": "stream",
     "text": [
      "Epoch 1/20\n",
      "60/60 - 10s - loss: 1.3094 - accuracy: 0.5644 - val_loss: 0.3751 - val_accuracy: 0.8890\n",
      "Epoch 2/20\n",
      "60/60 - 9s - loss: 0.3097 - accuracy: 0.9056 - val_loss: 0.2194 - val_accuracy: 0.9372\n",
      "Epoch 3/20\n",
      "60/60 - 9s - loss: 0.2111 - accuracy: 0.9354 - val_loss: 0.1657 - val_accuracy: 0.9515\n",
      "Epoch 4/20\n",
      "60/60 - 9s - loss: 0.1666 - accuracy: 0.9498 - val_loss: 0.1335 - val_accuracy: 0.9618\n",
      "Epoch 5/20\n",
      "60/60 - 10s - loss: 0.1399 - accuracy: 0.9589 - val_loss: 0.1171 - val_accuracy: 0.9656\n",
      "Epoch 6/20\n",
      "60/60 - 10s - loss: 0.1208 - accuracy: 0.9639 - val_loss: 0.1013 - val_accuracy: 0.9694\n",
      "Epoch 7/20\n",
      "60/60 - 12s - loss: 0.1104 - accuracy: 0.9661 - val_loss: 0.0934 - val_accuracy: 0.9707\n",
      "Epoch 8/20\n",
      "60/60 - 10s - loss: 0.1011 - accuracy: 0.9692 - val_loss: 0.0845 - val_accuracy: 0.9738\n",
      "Epoch 9/20\n",
      "60/60 - 10s - loss: 0.0942 - accuracy: 0.9710 - val_loss: 0.0826 - val_accuracy: 0.9753\n",
      "Epoch 10/20\n",
      "60/60 - 10s - loss: 0.0887 - accuracy: 0.9726 - val_loss: 0.0791 - val_accuracy: 0.9761\n",
      "Epoch 11/20\n",
      "60/60 - 10s - loss: 0.0842 - accuracy: 0.9742 - val_loss: 0.0723 - val_accuracy: 0.9779\n",
      "Epoch 12/20\n",
      "60/60 - 9s - loss: 0.0790 - accuracy: 0.9753 - val_loss: 0.0716 - val_accuracy: 0.9780\n",
      "Epoch 13/20\n",
      "60/60 - 9s - loss: 0.0761 - accuracy: 0.9760 - val_loss: 0.0706 - val_accuracy: 0.9797\n",
      "Epoch 14/20\n",
      "60/60 - 9s - loss: 0.0724 - accuracy: 0.9774 - val_loss: 0.0628 - val_accuracy: 0.9813\n",
      "Epoch 15/20\n",
      "60/60 - 9s - loss: 0.0694 - accuracy: 0.9785 - val_loss: 0.0610 - val_accuracy: 0.9798\n",
      "Epoch 16/20\n",
      "60/60 - 9s - loss: 0.0687 - accuracy: 0.9784 - val_loss: 0.0592 - val_accuracy: 0.9815\n",
      "Epoch 17/20\n",
      "60/60 - 9s - loss: 0.0659 - accuracy: 0.9793 - val_loss: 0.0613 - val_accuracy: 0.9813\n",
      "Epoch 18/20\n",
      "60/60 - 9s - loss: 0.0637 - accuracy: 0.9801 - val_loss: 0.0596 - val_accuracy: 0.9819\n",
      "Epoch 19/20\n",
      "60/60 - 9s - loss: 0.0630 - accuracy: 0.9796 - val_loss: 0.0582 - val_accuracy: 0.9808\n",
      "Epoch 20/20\n",
      "60/60 - 9s - loss: 0.0626 - accuracy: 0.9802 - val_loss: 0.0598 - val_accuracy: 0.9813\n"
     ]
    }
   ],
   "source": [
    "max_deep_wide_model = max_deep_wide_init()\n",
    "history = max_deep_wide_model.fit(train_x, train_y, batch_size=1000, epochs=20, validation_data=(test_x, test_y), verbose=2) \n"
   ]
  },
  {
   "cell_type": "code",
   "execution_count": 220,
   "metadata": {},
   "outputs": [],
   "source": [
    "model = max_deep_wide_model"
   ]
  },
  {
   "cell_type": "code",
   "execution_count": 221,
   "metadata": {},
   "outputs": [
    {
     "data": {
      "image/png": "[encoded data removed]",
      "text/plain": [
       "<Figure size 1080x360 with 2 Axes>"
      ]
     },
     "metadata": {},
     "output_type": "display_data"
    }
   ],
   "source": [
    "sns.set_theme()\n",
    "hist = history.history\n",
    "fig, axis = plt.subplots(1, 2)\n",
    "x = [i for i in range(len(hist['loss']))]\n",
    "df = pd.DataFrame({\"x\":x,\n",
    "                   \"train_loss\":hist['loss'],\n",
    "                   \"test_loss\":hist[\"val_loss\"],\n",
    "                   \"train_accuracy\":hist[\"accuracy\"],\n",
    "                   \"test_accuracy\":hist[\"val_accuracy\"]})\n",
    "p1 = sns.lineplot(ax=axis[0], data=df, x=\"x\", y=\"train_loss\", label=\"train\")\n",
    "sns.lineplot(ax = axis[0], data=df, x=\"x\", y=\"test_loss\", label=\"test\")\n",
    "p1.set(\n",
    "    xticks=x,\n",
    "    title=\"Loss\",\n",
    "    xlabel=\"epochs\",\n",
    ")\n",
    "\n",
    "p2 = sns.lineplot(ax=axis[1], data=df, x=\"x\", y=\"train_accuracy\", label=\"train\")\n",
    "sns.lineplot(ax = axis[1], data=df, x=\"x\", y=\"test_accuracy\", label=\"test\")\n",
    "p2.set(\n",
    "    xticks=x,\n",
    "    title=\"Accuracy\",\n",
    "    xlabel=\"epochs\",\n",
    ")\n",
    "fig.set_figheight(5)\n",
    "fig.set_figwidth(15)\n",
    "p1.legend(loc=\"upper right\")\n",
    "pass"
   ]
  },
  {
   "cell_type": "code",
   "execution_count": 224,
   "metadata": {},
   "outputs": [
    {
     "name": "stdout",
     "output_type": "stream",
     "text": [
      "0.9802166819572449\n"
     ]
    },
    {
     "data": {
      "text/plain": [
       "0.9812999963760376"
      ]
     },
     "execution_count": 224,
     "metadata": {},
     "output_type": "execute_result"
    }
   ],
   "source": [
    "print(hist[\"accuracy\"][-1]) # 98% Accuracy\n",
    "hist[\"val_accuracy\"][-1] # 98% Accuracy"
   ]
  },
  {
   "cell_type": "code",
   "execution_count": null,
   "metadata": {},
   "outputs": [],
   "source": []
  }
 ],
 "metadata": {
  "kernelspec": {
   "display_name": "Python 3",
   "language": "python",
   "name": "python3"
  },
  "language_info": {
   "codemirror_mode": {
    "name": "ipython",
    "version": 3
   },
   "file_extension": ".py",
   "mimetype": "text/x-python",
   "name": "python",
   "nbconvert_exporter": "python",
   "pygments_lexer": "ipython3",
   "version": "3.8.5"
  }
 },
 "nbformat": 4,
 "nbformat_minor": 4
}
